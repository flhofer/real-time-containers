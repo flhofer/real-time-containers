{
 "cells": [
  {
   "cell_type": "code",
   "execution_count": null,
   "id": "5623baf0-ee91-4ef1-aaf2-c968f1f80f98",
   "metadata": {},
   "outputs": [],
   "source": [
    "import os\n",
    "import re\n",
    "import pandas as pd\n",
    "import numpy as np\n",
    "import matplotlib.pyplot as plt"
   ]
  },
  {
   "cell_type": "code",
   "execution_count": null,
   "id": "e9215043-28fe-4801-ad7e-d408f93d508f",
   "metadata": {},
   "outputs": [],
   "source": [
    "#tutti i gruppi di test\n",
    "group1 = [\"1-\" + str(i) for i in range(1, 11)]\n",
    "group2 = [\"2-\" + str(i) for i in range(1, 3)]\n",
    "group3 = [\"3-\" + str(i) for i in range(1, 4)]\n",
    "group4 = [\"4-\" + str(i) for i in range(1, 11)]"
   ]
  },
  {
   "cell_type": "code",
   "execution_count": null,
   "id": "1211d4a2-a0bc-4753-91ee-8187324af5d8",
   "metadata": {},
   "outputs": [],
   "source": [
    "#tests contenente tutti i gruppi\n",
    "tests = [group1, group2, group3, group4]"
   ]
  },
  {
   "cell_type": "code",
   "execution_count": null,
   "id": "4baebd76-0c9c-483a-a8b7-0d959495dfe6",
   "metadata": {},
   "outputs": [],
   "source": [
    "#dir dei log: percorso base \n",
    "log_dir = os.path.join(os.getcwd(), \"testrun-vplc/test0\") #cambiare cartella e posizionarsi in quella del test di interesse\n",
    "print(log_dir)"
   ]
  },
  {
   "cell_type": "code",
   "execution_count": null,
   "id": "9b7f2ef0-3dc0-45f1-8978-6beecb104bb4",
   "metadata": {},
   "outputs": [],
   "source": [
    "#funzione load restituisce un array contenente i valori di cycletime per ogni ciclo\n",
    "def load_data(file):\n",
    "    # Lista per memorizzare i valori estratti\n",
    "    values = []\n",
    "    # percorso assoluto file \n",
    "    file_path=log_dir + '/' + tests[l][k] + '/' + file\n",
    "    # Leggo file\n",
    "    with open(file_path, 'r') as file:\n",
    "        for line in file:\n",
    "            # Trova il simbolo '#' nella riga\n",
    "            if '#' in line:\n",
    "                # Estrae la parte della riga dopo il simbolo '#'\n",
    "                after_hash = line.split('#')[1].strip()\n",
    "                # Trova il primo intero dopo il simbolo '#'\n",
    "                match = re.search(r'\\d+', after_hash)\n",
    "                if match:\n",
    "                    values.append(int(match.group(0)))\n",
    "    \n",
    "    return np.array(values)"
   ]
  },
  {
   "cell_type": "code",
   "execution_count": null,
   "id": "c96a821c-bbff-40a9-bb98-0bf6e39cb31a",
   "metadata": {},
   "outputs": [],
   "source": [
    "#faccio parsing dei valori per ogni sottocartella test*/*-*\n",
    "#creo tanti dataframe distinti per ogni cartella dei test\n",
    "\n",
    "for l in range(0, len(tests)): # da 0 a 3\n",
    "    vplcTest = []\n",
    "    cycletime = np.empty(0)\n",
    "    for k in range(0, len(tests[l])): # lunghezza di ogni singolo test (1-1/1-10, 2-1/2-2, 3-1/3-3, 4-1/4-10) \n",
    "        for f in os.listdir(log_dir + '/' + tests[l][k]):\n",
    "                if f.startswith(\"tasktimes\"):\n",
    "                    cycletime = load_data(f)\n",
    "                    print (cycletime)\n",
    "                    break;\n",
    "        vplcTest.append(cycletime)\n",
    "        \n",
    "    plt.figure(figsize=(10, 6))\n",
    "    plt.boxplot(vplcTest, vert=True, showfliers=False, showmeans=True)\n",
    "    plt.title('Boxplot di vplcTest')\n",
    "    plt.xlabel('Test ' + str(l+1))\n",
    "    plt.ylabel('CycleTime')\n",
    "    plt.show()\n",
    "                   "
   ]
  },
  {
   "cell_type": "code",
   "execution_count": null,
   "id": "f35aeffb-8be2-4f2e-acca-c397d658bc1e",
   "metadata": {},
   "outputs": [],
   "source": []
  },
  {
   "cell_type": "code",
   "execution_count": null,
   "id": "04966564-997a-45e5-9499-f4ee9f47174e",
   "metadata": {},
   "outputs": [],
   "source": []
  }
 ],
 "metadata": {
  "kernelspec": {
   "display_name": "Python 3 (ipykernel)",
   "language": "python",
   "name": "python3"
  },
  "language_info": {
   "codemirror_mode": {
    "name": "ipython",
    "version": 3
   },
   "file_extension": ".py",
   "mimetype": "text/x-python",
   "name": "python",
   "nbconvert_exporter": "python",
   "pygments_lexer": "ipython3",
   "version": "3.12.3"
  }
 },
 "nbformat": 4,
 "nbformat_minor": 5
}
